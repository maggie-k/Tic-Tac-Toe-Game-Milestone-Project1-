{
 "cells": [
  {
   "cell_type": "code",
   "execution_count": 1,
   "id": "7b097b9a",
   "metadata": {},
   "outputs": [],
   "source": [
    "board=['','','','','','','','','','']\n",
    "board[0]='GOTCHA!'"
   ]
  },
  {
   "cell_type": "code",
   "execution_count": 2,
   "id": "1269f44b",
   "metadata": {},
   "outputs": [],
   "source": [
    "def print_board(board):\n",
    "    \n",
    "    print(\"{}{}{}\".format('__','____','______'))\n",
    "    print(\"{}   |  {}  |  {}\".format(board[7],board[8],board[9]))\n",
    "    print(\"{}{}{}\".format('__','____','______'))\n",
    "    print(\"{}   | {}   |  {}\".format(board[4],board[5],board[6]))\n",
    "    print(\"{}{}{}\".format('__','____','______'))\n",
    "    print(\"{}   | {}   |  {}\".format(board[1],board[2],board[3]))\n",
    "    print(\"{}{}{}\".format('__','____','______'))"
   ]
  },
  {
   "cell_type": "code",
   "execution_count": 3,
   "id": "5cf19012",
   "metadata": {},
   "outputs": [
    {
     "name": "stdout",
     "output_type": "stream",
     "text": [
      "____________\n",
      "   |    |  \n",
      "____________\n",
      "   |    |  \n",
      "____________\n",
      "   |    |  \n",
      "____________\n"
     ]
    }
   ],
   "source": [
    "print_board(board)"
   ]
  },
  {
   "cell_type": "code",
   "execution_count": 4,
   "id": "55a31aa9",
   "metadata": {},
   "outputs": [],
   "source": [
    "def display_board(board):\n",
    "    print('Welcome! This is Tic Tac Toe!')\n",
    "    print_board(board)"
   ]
  },
  {
   "cell_type": "code",
   "execution_count": 5,
   "id": "16b04e56",
   "metadata": {},
   "outputs": [],
   "source": [
    "def win_check(board,marker):\n",
    "    \n",
    "    return ((board[1]==board[2]==board[3]==marker) or \n",
    "    (board[4]==board[5]==board[6]==marker) or \n",
    "    (board[7]==board[8]==board[9]==marker) or \n",
    "    (board[1]==board[4]==board[7]==marker) or \n",
    "    (board[2]==board[5]==board[8]==marker) or\n",
    "    (board[3]==board[6]==board[9]==marker) or\n",
    "    (board[1]==board[5]==board[9]==marker) or\n",
    "    (board[3]==board[5]==board[7]==marker))\n",
    "#win_check(board,'z')"
   ]
  },
  {
   "cell_type": "code",
   "execution_count": 6,
   "id": "6002cce9",
   "metadata": {},
   "outputs": [],
   "source": [
    "from random import randint\n",
    "\n",
    "def first_players():\n",
    "    first_player=randint(1,2)\n",
    "    \n",
    "    if first_player==1:\n",
    "        print('Player 1 goes first')\n",
    "        return 'Player 1'\n",
    "    else:\n",
    "        print('Player 2 goes first')\n",
    "        return'Player 2'"
   ]
  },
  {
   "cell_type": "code",
   "execution_count": 7,
   "id": "7b94aae7",
   "metadata": {},
   "outputs": [],
   "source": [
    "def game_on():\n",
    "    game_on=''\n",
    "    while game_on not in ('Yes','No'):\n",
    "        game_on=input('Ready to play? Choose Yes or No: ')\n",
    "    \n",
    "    if game_on=='Yes':\n",
    "        return True\n",
    "    else:\n",
    "        return False\n",
    "#game_on()"
   ]
  },
  {
   "cell_type": "code",
   "execution_count": 8,
   "id": "e5847122",
   "metadata": {},
   "outputs": [],
   "source": [
    "def marker():\n",
    "    marker=''\n",
    "    while marker not in ('X','O'):\n",
    "        marker=input(\"Player 1: Please choose your marker:('X' or 'O') \").upper()\n",
    "    \n",
    "    print(f'Player 1 is playing as: {marker}')\n",
    "    \n",
    "    if marker=='X':\n",
    "        return ('X','O')\n",
    "    else:\n",
    "        return ('O','X')\n",
    "\n",
    "#player1_marker,player2_marker=marker()"
   ]
  },
  {
   "cell_type": "code",
   "execution_count": 9,
   "id": "d0fd33b1",
   "metadata": {},
   "outputs": [],
   "source": [
    "def empty_slot(board,position):\n",
    "    return board[position]==''"
   ]
  },
  {
   "cell_type": "code",
   "execution_count": 10,
   "id": "2f5f6ddc",
   "metadata": {},
   "outputs": [],
   "source": [
    "def player_position(board):\n",
    "    \n",
    "    position=''\n",
    "    \n",
    "    while position not in range(10) or not empty_slot(board,position):\n",
    "        \n",
    "        position=input('Please input a number: (1-9): ')\n",
    "        if position.isdigit() and int(position): \n",
    "            position=int(position)\n",
    "        \n",
    "    return position\n"
   ]
  },
  {
   "cell_type": "code",
   "execution_count": 11,
   "id": "6f7d4388",
   "metadata": {},
   "outputs": [],
   "source": [
    "def play_game(board,marker,position):\n",
    "    board[position]=marker"
   ]
  },
  {
   "cell_type": "code",
   "execution_count": 12,
   "id": "93fa6115",
   "metadata": {},
   "outputs": [],
   "source": [
    "def full_board(board):\n",
    "    for i in range(len(board)):\n",
    "        if empty_slot(board,i):\n",
    "            return False\n",
    "    else:\n",
    "        return True\n",
    "#full_board(board)"
   ]
  },
  {
   "cell_type": "code",
   "execution_count": 13,
   "id": "1c7dfd38",
   "metadata": {},
   "outputs": [],
   "source": [
    "def play_again():\n",
    "    play_again=''\n",
    "    while play_again not in ('Yes','No'):\n",
    "        play_again=input('Would you like to play again? Please input Yes or No: ')\n",
    "        \n",
    "    if play_again=='Yes':\n",
    "        return True\n",
    "    else:\n",
    "        return False\n",
    "#play_again()"
   ]
  },
  {
   "cell_type": "code",
   "execution_count": 14,
   "id": "a8524f12",
   "metadata": {},
   "outputs": [],
   "source": [
    "def reset_game(board):\n",
    "    for i in range(len(board)):\n",
    "        board[i]=''\n",
    "    print(\"\\nWelcome back! Let's play again!\")\n",
    "    board[0]='GOTCHA!'\n",
    "    print_board(board)"
   ]
  },
  {
   "cell_type": "code",
   "execution_count": null,
   "id": "72d5af4b",
   "metadata": {},
   "outputs": [],
   "source": []
  },
  {
   "cell_type": "code",
   "execution_count": null,
   "id": "99875ba5",
   "metadata": {},
   "outputs": [],
   "source": []
  },
  {
   "cell_type": "code",
   "execution_count": 16,
   "id": "3d712b93",
   "metadata": {},
   "outputs": [
    {
     "name": "stdout",
     "output_type": "stream",
     "text": [
      "____________\n",
      "O   |    |  X\n",
      "____________\n",
      "O   |    |  \n",
      "____________\n",
      "O   |    |  X\n",
      "____________\n",
      "Player 1 has WON!!\n",
      "Would you like to play again? Please input Yes or No: No\n",
      "\n",
      "Welcome back! Let's play again!\n",
      "____________\n",
      "   |    |  \n",
      "____________\n",
      "   |    |  \n",
      "____________\n",
      "   |    |  \n",
      "____________\n"
     ]
    }
   ],
   "source": [
    "# GAME LOGIC\n",
    "\n",
    "from IPython.display import clear_output\n",
    "\n",
    "#board=['','','','','','','','','','']\n",
    "display_board(board)\n",
    "player1_marker,player2_marker=marker()\n",
    "player=first_players()\n",
    "gaming=game_on()\n",
    "\n",
    "while gaming:\n",
    "    \n",
    "    if player== 'Player 1':\n",
    "        position=player_position(board)\n",
    "        play_game(board,player1_marker,position)\n",
    "        clear_output()\n",
    "        print_board(board)\n",
    "        \n",
    "        if win_check(board,player1_marker):\n",
    "            print('Player 1 has WON!!')\n",
    "            if play_again():\n",
    "                reset_game(board)\n",
    "            else:\n",
    "                reset_game(board)\n",
    "                break\n",
    "    \n",
    "        if full_board(board):\n",
    "            print(\"IT'S A TIE!\")\n",
    "            if play_again():\n",
    "                reset_game(board)\n",
    "            else:\n",
    "                reset_game(board)\n",
    "                break\n",
    "        else:\n",
    "            player='Player 2'\n",
    "    \n",
    "    \n",
    "    \n",
    "    \n",
    "    else:\n",
    "        position=player_position(board)\n",
    "        play_game(board,player2_marker,position)\n",
    "        clear_output()\n",
    "        print_board(board)\n",
    "        \n",
    "        if win_check(board,player2_marker):\n",
    "            print('Player 2 has WON!!')\n",
    "            if play_again():\n",
    "                reset_game(board)\n",
    "            else:\n",
    "                reset_game(board)\n",
    "                break\n",
    "                \n",
    "        if full_board(board):\n",
    "            print(\"IT'S A TIE!\")\n",
    "            if play_again():\n",
    "                reset_game(board)\n",
    "            else:\n",
    "                reset_game(board)\n",
    "                break\n",
    "        else:\n",
    "            player='Player 1'\n",
    "                  "
   ]
  },
  {
   "cell_type": "code",
   "execution_count": null,
   "id": "886e2332",
   "metadata": {},
   "outputs": [],
   "source": []
  }
 ],
 "metadata": {
  "kernelspec": {
   "display_name": "Python 3 (ipykernel)",
   "language": "python",
   "name": "python3"
  },
  "language_info": {
   "codemirror_mode": {
    "name": "ipython",
    "version": 3
   },
   "file_extension": ".py",
   "mimetype": "text/x-python",
   "name": "python",
   "nbconvert_exporter": "python",
   "pygments_lexer": "ipython3",
   "version": "3.9.13"
  }
 },
 "nbformat": 4,
 "nbformat_minor": 5
}
